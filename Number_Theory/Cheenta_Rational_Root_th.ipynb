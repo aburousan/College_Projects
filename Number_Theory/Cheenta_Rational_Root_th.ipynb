{
 "cells": [
  {
   "cell_type": "markdown",
   "id": "0c641d0e",
   "metadata": {},
   "source": [
    "# Check if a Number is Rational or Not"
   ]
  },
  {
   "cell_type": "markdown",
   "id": "e866fb5e",
   "metadata": {},
   "source": [
    "### by Kazi Abu Rousan"
   ]
  },
  {
   "cell_type": "code",
   "execution_count": 1,
   "id": "a8ab7f66",
   "metadata": {},
   "outputs": [],
   "source": [
    "from sympy.interactive import printing\n",
    "printing.init_printing(use_latex = True)\n",
    "\n",
    "from sympy import minimal_polynomial, Poly, root, divisors, pi"
   ]
  },
  {
   "cell_type": "code",
   "execution_count": 2,
   "id": "1b5d49c9",
   "metadata": {},
   "outputs": [
    {
     "data": {
      "image/png": "[encoded data removed]",
      "text/latex": [
       "$\\displaystyle \\sqrt{3}$"
      ],
      "text/plain": [
       "√3"
      ]
     },
     "execution_count": 2,
     "metadata": {},
     "output_type": "execute_result"
    }
   ],
   "source": [
    "n = root(3,2) # The root function takes 2 argument 1. The number , 2. The power of the number\n",
    "n"
   ]
  },
  {
   "cell_type": "code",
   "execution_count": 3,
   "id": "89b58fff",
   "metadata": {},
   "outputs": [
    {
     "data": {
      "image/png": "[encoded data removed]",
      "text/latex": [
       "$\\displaystyle \\sqrt[10]{5}$"
      ],
      "text/plain": [
       "10___\n",
       "╲╱ 5 "
      ]
     },
     "execution_count": 3,
     "metadata": {},
     "output_type": "execute_result"
    }
   ],
   "source": [
    "n1 = root(5,10)\n",
    "n1"
   ]
  },
  {
   "cell_type": "code",
   "execution_count": 4,
   "id": "d83b67d7",
   "metadata": {},
   "outputs": [
    {
     "data": {
      "image/png": "[encoded data removed]",
      "text/latex": [
       "$\\displaystyle 1.4142135623731$"
      ],
      "text/plain": [
       "1.4142135623730951"
      ]
     },
     "execution_count": 4,
     "metadata": {},
     "output_type": "execute_result"
    }
   ],
   "source": [
    "pow(2,0.5)"
   ]
  },
  {
   "cell_type": "code",
   "execution_count": 5,
   "id": "12591cef",
   "metadata": {},
   "outputs": [
    {
     "data": {
      "image/png": "[encoded data removed]",
      "text/latex": [
       "$\\displaystyle \\sqrt{2 \\sqrt{3} + 10}$"
      ],
      "text/plain": [
       "  ___________\n",
       "╲╱ 2⋅√3 + 10 "
      ]
     },
     "execution_count": 5,
     "metadata": {},
     "output_type": "execute_result"
    }
   ],
   "source": [
    "n2 = root(10 + 2* root(3,2),2)\n",
    "n2"
   ]
  },
  {
   "cell_type": "code",
   "execution_count": 6,
   "id": "94236cb6",
   "metadata": {},
   "outputs": [
    {
     "data": {
      "image/png": "[encoded data removed]",
      "text/latex": [
       "$\\displaystyle x^{2} - 3$"
      ],
      "text/plain": [
       " 2    \n",
       "x  - 3"
      ]
     },
     "execution_count": 6,
     "metadata": {},
     "output_type": "execute_result"
    }
   ],
   "source": [
    "P = minimal_polynomial(n)\n",
    "P"
   ]
  },
  {
   "cell_type": "code",
   "execution_count": 7,
   "id": "2806121d",
   "metadata": {},
   "outputs": [
    {
     "data": {
      "image/png": "[encoded data removed]",
      "text/latex": [
       "$\\displaystyle x^{4} - 20 x^{2} + 88$"
      ],
      "text/plain": [
       " 4       2     \n",
       "x  - 20⋅x  + 88"
      ]
     },
     "execution_count": 7,
     "metadata": {},
     "output_type": "execute_result"
    }
   ],
   "source": [
    "P1 = minimal_polynomial(n2)\n",
    "P1"
   ]
  },
  {
   "cell_type": "code",
   "execution_count": 8,
   "id": "699485da",
   "metadata": {},
   "outputs": [
    {
     "data": {
      "image/png": "[encoded data removed]",
      "text/latex": [
       "$\\displaystyle \\operatorname{Poly}{\\left( x^{2} - 3, x, domain=\\mathbb{Z} \\right)}$"
      ],
      "text/plain": [
       "Poly(_x**2 - 3, _x, domain='ZZ')"
      ]
     },
     "execution_count": 8,
     "metadata": {},
     "output_type": "execute_result"
    }
   ],
   "source": [
    "pol = Poly(P)\n",
    "pol"
   ]
  },
  {
   "cell_type": "code",
   "execution_count": 9,
   "id": "bf081516",
   "metadata": {},
   "outputs": [
    {
     "data": {
      "image/png": "[encoded data removed]",
      "text/latex": [
       "$\\displaystyle \\left[ 1, \\  0, \\  -3\\right]$"
      ],
      "text/plain": [
       "[1, 0, -3]"
      ]
     },
     "execution_count": 9,
     "metadata": {},
     "output_type": "execute_result"
    }
   ],
   "source": [
    "coeff = pol.all_coeffs()\n",
    "coeff"
   ]
  },
  {
   "cell_type": "code",
   "execution_count": 10,
   "id": "4c8200c2",
   "metadata": {},
   "outputs": [
    {
     "data": {
      "image/png": "[encoded data removed]",
      "text/latex": [
       "$\\displaystyle \\left[ 1, \\  0, \\  -20, \\  0, \\  88\\right]$"
      ],
      "text/plain": [
       "[1, 0, -20, 0, 88]"
      ]
     },
     "execution_count": 10,
     "metadata": {},
     "output_type": "execute_result"
    }
   ],
   "source": [
    "pol1 = Poly(P1)\n",
    "coeff1 = pol1.all_coeffs()\n",
    "coeff1"
   ]
  },
  {
   "cell_type": "code",
   "execution_count": 11,
   "id": "baee524b",
   "metadata": {},
   "outputs": [
    {
     "data": {
      "image/png": "[encoded data removed]",
      "text/latex": [
       "$\\displaystyle 88$"
      ],
      "text/plain": [
       "88"
      ]
     },
     "execution_count": 11,
     "metadata": {},
     "output_type": "execute_result"
    }
   ],
   "source": [
    "coeff1[-1]#a0"
   ]
  },
  {
   "cell_type": "code",
   "execution_count": 12,
   "id": "fa39a8bf",
   "metadata": {},
   "outputs": [
    {
     "data": {
      "image/png": "[encoded data removed]",
      "text/latex": [
       "$\\displaystyle -2$"
      ],
      "text/plain": [
       "-2"
      ]
     },
     "execution_count": 12,
     "metadata": {},
     "output_type": "execute_result"
    }
   ],
   "source": [
    "pol_1 = pol.eval(1)\n",
    "pol_1"
   ]
  },
  {
   "cell_type": "code",
   "execution_count": 13,
   "id": "e98f155e",
   "metadata": {},
   "outputs": [
    {
     "data": {
      "image/png": "[encoded data removed]",
      "text/latex": [
       "$\\displaystyle \\left[ 1, \\  2, \\  4, \\  8, \\  16\\right]$"
      ],
      "text/plain": [
       "[1, 2, 4, 8, 16]"
      ]
     },
     "execution_count": 13,
     "metadata": {},
     "output_type": "execute_result"
    }
   ],
   "source": [
    "div_p = divisors(16)\n",
    "div_p"
   ]
  },
  {
   "cell_type": "code",
   "execution_count": 14,
   "id": "3783c053",
   "metadata": {},
   "outputs": [
    {
     "data": {
      "image/png": "[encoded data removed]",
      "text/latex": [
       "$\\displaystyle \\left[ -1, \\  -2, \\  -4, \\  -8, \\  -16\\right]$"
      ],
      "text/plain": [
       "[-1, -2, -4, -8, -16]"
      ]
     },
     "execution_count": 14,
     "metadata": {},
     "output_type": "execute_result"
    }
   ],
   "source": [
    "div_n = [-1*i for i in div_p]\n",
    "div_n"
   ]
  },
  {
   "cell_type": "code",
   "execution_count": 15,
   "id": "ad44a2b0",
   "metadata": {},
   "outputs": [
    {
     "data": {
      "image/png": "[encoded data removed]",
      "text/latex": [
       "$\\displaystyle \\left[ 1, \\  2, \\  4, \\  8, \\  16, \\  -1, \\  -2, \\  -4, \\  -8, \\  -16\\right]$"
      ],
      "text/plain": [
       "[1, 2, 4, 8, 16, -1, -2, -4, -8, -16]"
      ]
     },
     "execution_count": 15,
     "metadata": {},
     "output_type": "execute_result"
    }
   ],
   "source": [
    "div = div_p + div_n\n",
    "div"
   ]
  },
  {
   "cell_type": "code",
   "execution_count": 16,
   "id": "a0ad5625",
   "metadata": {},
   "outputs": [],
   "source": [
    "def check_irrational(m):\n",
    "    result = True\n",
    "    p = minimal_polynomial(m)\n",
    "    print(\"Minimal Polynomial of \",m , \" is = \",p)\n",
    "    pol = Poly(p)\n",
    "    a_0 = pol.all_coeffs()[-1]\n",
    "    print(\" The a_0 is = \", a_0)\n",
    "    div_p = divisors(a_0)\n",
    "    div_n = [-1*i for i in div_p]\n",
    "    all_div = div_p + div_n\n",
    "    print(\" All possible integer roots = \", all_div)\n",
    "    for j in all_div:\n",
    "        val = pol.eval(j)\n",
    "        if val == 0:\n",
    "            result = False\n",
    "            break\n",
    "    if result:\n",
    "        print(m, \" is an Irrational Number.\")\n",
    "    else:\n",
    "        print(m, \"is a Integer.\")"
   ]
  },
  {
   "cell_type": "code",
   "execution_count": 17,
   "id": "c3d2d2e2",
   "metadata": {},
   "outputs": [
    {
     "name": "stdout",
     "output_type": "stream",
     "text": [
      "Minimal Polynomial of  sqrt(3)  is =  _x**2 - 3\n",
      " The a_0 is =  -3\n",
      " All possible integer roots =  [1, 3, -1, -3]\n",
      "sqrt(3)  is an Irrational Number.\n"
     ]
    }
   ],
   "source": [
    "check_irrational(n)"
   ]
  },
  {
   "cell_type": "code",
   "execution_count": 18,
   "id": "78d4e959",
   "metadata": {},
   "outputs": [
    {
     "name": "stdout",
     "output_type": "stream",
     "text": [
      "Minimal Polynomial of  sqrt(2*sqrt(3) + 10)  is =  _x**4 - 20*_x**2 + 88\n",
      " The a_0 is =  88\n",
      " All possible integer roots =  [1, 2, 4, 8, 11, 22, 44, 88, -1, -2, -4, -8, -11, -22, -44, -88]\n",
      "sqrt(2*sqrt(3) + 10)  is an Irrational Number.\n"
     ]
    }
   ],
   "source": [
    "check_irrational(n2)"
   ]
  },
  {
   "cell_type": "code",
   "execution_count": 19,
   "id": "b87992b4",
   "metadata": {},
   "outputs": [
    {
     "name": "stdout",
     "output_type": "stream",
     "text": [
      "Minimal Polynomial of  5  is =  _x - 5\n",
      " The a_0 is =  -5\n",
      " All possible integer roots =  [1, 5, -1, -5]\n",
      "5 is a Integer.\n"
     ]
    }
   ],
   "source": [
    "check_irrational(5)"
   ]
  },
  {
   "cell_type": "code",
   "execution_count": 20,
   "id": "2cd15ccf",
   "metadata": {},
   "outputs": [
    {
     "ename": "NotAlgebraic",
     "evalue": "pi doesn't seem to be an algebraic element",
     "output_type": "error",
     "traceback": [
      "\u001b[1;31m---------------------------------------------------------------------------\u001b[0m",
      "\u001b[1;31mNotAlgebraic\u001b[0m                              Traceback (most recent call last)",
      "\u001b[1;32m<ipython-input-20-ce4370406870>\u001b[0m in \u001b[0;36m<module>\u001b[1;34m\u001b[0m\n\u001b[1;32m----> 1\u001b[1;33m \u001b[0mcheck_irrational\u001b[0m\u001b[1;33m(\u001b[0m\u001b[0mpi\u001b[0m\u001b[1;33m)\u001b[0m\u001b[1;33m\u001b[0m\u001b[1;33m\u001b[0m\u001b[0m\n\u001b[0m",
      "\u001b[1;32m<ipython-input-16-878ca60b3e0a>\u001b[0m in \u001b[0;36mcheck_irrational\u001b[1;34m(m)\u001b[0m\n\u001b[0;32m      1\u001b[0m \u001b[1;32mdef\u001b[0m \u001b[0mcheck_irrational\u001b[0m\u001b[1;33m(\u001b[0m\u001b[0mm\u001b[0m\u001b[1;33m)\u001b[0m\u001b[1;33m:\u001b[0m\u001b[1;33m\u001b[0m\u001b[1;33m\u001b[0m\u001b[0m\n\u001b[0;32m      2\u001b[0m     \u001b[0mresult\u001b[0m \u001b[1;33m=\u001b[0m \u001b[1;32mTrue\u001b[0m\u001b[1;33m\u001b[0m\u001b[1;33m\u001b[0m\u001b[0m\n\u001b[1;32m----> 3\u001b[1;33m     \u001b[0mp\u001b[0m \u001b[1;33m=\u001b[0m \u001b[0mminimal_polynomial\u001b[0m\u001b[1;33m(\u001b[0m\u001b[0mm\u001b[0m\u001b[1;33m)\u001b[0m\u001b[1;33m\u001b[0m\u001b[1;33m\u001b[0m\u001b[0m\n\u001b[0m\u001b[0;32m      4\u001b[0m     \u001b[0mprint\u001b[0m\u001b[1;33m(\u001b[0m\u001b[1;34m\"Minimal Polynomial of \"\u001b[0m\u001b[1;33m,\u001b[0m\u001b[0mm\u001b[0m \u001b[1;33m,\u001b[0m \u001b[1;34m\" is = \"\u001b[0m\u001b[1;33m,\u001b[0m\u001b[0mp\u001b[0m\u001b[1;33m)\u001b[0m\u001b[1;33m\u001b[0m\u001b[1;33m\u001b[0m\u001b[0m\n\u001b[0;32m      5\u001b[0m     \u001b[0mpol\u001b[0m \u001b[1;33m=\u001b[0m \u001b[0mPoly\u001b[0m\u001b[1;33m(\u001b[0m\u001b[0mp\u001b[0m\u001b[1;33m)\u001b[0m\u001b[1;33m\u001b[0m\u001b[1;33m\u001b[0m\u001b[0m\n",
      "\u001b[1;32mc:\\users\\user\\appdata\\local\\programs\\python\\python38\\lib\\site-packages\\sympy\\polys\\numberfields.py\u001b[0m in \u001b[0;36mminimal_polynomial\u001b[1;34m(ex, x, compose, polys, domain)\u001b[0m\n\u001b[0;32m    669\u001b[0m \u001b[1;33m\u001b[0m\u001b[0m\n\u001b[0;32m    670\u001b[0m     \u001b[1;32mif\u001b[0m \u001b[0mcompose\u001b[0m\u001b[1;33m:\u001b[0m\u001b[1;33m\u001b[0m\u001b[1;33m\u001b[0m\u001b[0m\n\u001b[1;32m--> 671\u001b[1;33m         \u001b[0mresult\u001b[0m \u001b[1;33m=\u001b[0m \u001b[0m_minpoly_compose\u001b[0m\u001b[1;33m(\u001b[0m\u001b[0mex\u001b[0m\u001b[1;33m,\u001b[0m \u001b[0mx\u001b[0m\u001b[1;33m,\u001b[0m \u001b[0mdomain\u001b[0m\u001b[1;33m)\u001b[0m\u001b[1;33m\u001b[0m\u001b[1;33m\u001b[0m\u001b[0m\n\u001b[0m\u001b[0;32m    672\u001b[0m         \u001b[0mresult\u001b[0m \u001b[1;33m=\u001b[0m \u001b[0mresult\u001b[0m\u001b[1;33m.\u001b[0m\u001b[0mprimitive\u001b[0m\u001b[1;33m(\u001b[0m\u001b[1;33m)\u001b[0m\u001b[1;33m[\u001b[0m\u001b[1;36m1\u001b[0m\u001b[1;33m]\u001b[0m\u001b[1;33m\u001b[0m\u001b[1;33m\u001b[0m\u001b[0m\n\u001b[0;32m    673\u001b[0m         \u001b[0mc\u001b[0m \u001b[1;33m=\u001b[0m \u001b[0mresult\u001b[0m\u001b[1;33m.\u001b[0m\u001b[0mcoeff\u001b[0m\u001b[1;33m(\u001b[0m\u001b[0mx\u001b[0m\u001b[1;33m**\u001b[0m\u001b[0mdegree\u001b[0m\u001b[1;33m(\u001b[0m\u001b[0mresult\u001b[0m\u001b[1;33m,\u001b[0m \u001b[0mx\u001b[0m\u001b[1;33m)\u001b[0m\u001b[1;33m)\u001b[0m\u001b[1;33m\u001b[0m\u001b[1;33m\u001b[0m\u001b[0m\n",
      "\u001b[1;32mc:\\users\\user\\appdata\\local\\programs\\python\\python38\\lib\\site-packages\\sympy\\polys\\numberfields.py\u001b[0m in \u001b[0;36m_minpoly_compose\u001b[1;34m(ex, x, dom)\u001b[0m\n\u001b[0;32m    583\u001b[0m         \u001b[0mres\u001b[0m \u001b[1;33m=\u001b[0m \u001b[0m_minpoly_rootof\u001b[0m\u001b[1;33m(\u001b[0m\u001b[0mex\u001b[0m\u001b[1;33m,\u001b[0m \u001b[0mx\u001b[0m\u001b[1;33m)\u001b[0m\u001b[1;33m\u001b[0m\u001b[1;33m\u001b[0m\u001b[0m\n\u001b[0;32m    584\u001b[0m     \u001b[1;32melse\u001b[0m\u001b[1;33m:\u001b[0m\u001b[1;33m\u001b[0m\u001b[1;33m\u001b[0m\u001b[0m\n\u001b[1;32m--> 585\u001b[1;33m         \u001b[1;32mraise\u001b[0m \u001b[0mNotAlgebraic\u001b[0m\u001b[1;33m(\u001b[0m\u001b[1;34m\"%s doesn't seem to be an algebraic element\"\u001b[0m \u001b[1;33m%\u001b[0m \u001b[0mex\u001b[0m\u001b[1;33m)\u001b[0m\u001b[1;33m\u001b[0m\u001b[1;33m\u001b[0m\u001b[0m\n\u001b[0m\u001b[0;32m    586\u001b[0m     \u001b[1;32mreturn\u001b[0m \u001b[0mres\u001b[0m\u001b[1;33m\u001b[0m\u001b[1;33m\u001b[0m\u001b[0m\n\u001b[0;32m    587\u001b[0m \u001b[1;33m\u001b[0m\u001b[0m\n",
      "\u001b[1;31mNotAlgebraic\u001b[0m: pi doesn't seem to be an algebraic element"
     ]
    }
   ],
   "source": [
    "check_irrational(pi)"
   ]
  },
  {
   "cell_type": "code",
   "execution_count": null,
   "id": "4b696b57",
   "metadata": {},
   "outputs": [],
   "source": []
  }
 ],
 "metadata": {
  "kernelspec": {
   "display_name": "Python 3",
   "language": "python",
   "name": "python3"
  },
  "language_info": {
   "codemirror_mode": {
    "name": "ipython",
    "version": 3
   },
   "file_extension": ".py",
   "mimetype": "text/x-python",
   "name": "python",
   "nbconvert_exporter": "python",
   "pygments_lexer": "ipython3",
   "version": "3.8.7"
  }
 },
 "nbformat": 4,
 "nbformat_minor": 5
}
